{
  "nbformat": 4,
  "nbformat_minor": 0,
  "metadata": {
    "colab": {
      "provenance": [],
      "authorship_tag": "ABX9TyOeQ8ZFyo8xxuaA8iS7TgOc",
      "include_colab_link": true
    },
    "kernelspec": {
      "name": "python3",
      "display_name": "Python 3"
    },
    "language_info": {
      "name": "python"
    }
  },
  "cells": [
    {
      "cell_type": "markdown",
      "metadata": {
        "id": "view-in-github",
        "colab_type": "text"
      },
      "source": [
        "<a href=\"https://colab.research.google.com/github/angeldelantar/OOP-58001/blob/main/Lab_Activity_2.ipynb\" target=\"_parent\"><img src=\"https://colab.research.google.com/assets/colab-badge.svg\" alt=\"Open In Colab\"/></a>"
      ]
    },
    {
      "cell_type": "code",
      "execution_count": 1,
      "metadata": {
        "colab": {
          "base_uri": "https://localhost:8080/"
        },
        "id": "3e7IfLfqgiYm",
        "outputId": "afc6e509-53d1-48ca-a4e1-8e752a138560"
      },
      "outputs": [
        {
          "output_type": "stream",
          "name": "stdout",
          "text": [
            "Enter your desired radius of your circle:\n",
            "1\n",
            "The area of the circle is: 3.14\n",
            "While the perimeter is: 6.28\n"
          ]
        }
      ],
      "source": [
        "class circle:\n",
        "  def __init__(self, radi):\n",
        "    self.radi = radi\n",
        "\n",
        "  def area(self):\n",
        "    return round((3.14) * (self.radi)**2, 2)\n",
        "\n",
        "  def perimeter(self):\n",
        "    return round(2 * (3.14) * self.radi, 2)\n",
        "\n",
        "  def display(self):\n",
        "    print(\"The area of the circle is:\", self.area())\n",
        "    print(\"While the perimeter is:\", self.perimeter())\n",
        "\n",
        "print(\"Enter your desired radius of your circle:\")\n",
        "Radius = float(input())\n",
        "\n",
        "circle = circle(Radius)\n",
        "circle.display()\n"
      ]
    }
  ]
}