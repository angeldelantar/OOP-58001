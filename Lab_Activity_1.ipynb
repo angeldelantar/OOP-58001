{
  "nbformat": 4,
  "nbformat_minor": 0,
  "metadata": {
    "colab": {
      "provenance": [],
      "authorship_tag": "ABX9TyMEBe11c+CskO7c/4Q4mEB9",
      "include_colab_link": true
    },
    "kernelspec": {
      "name": "python3",
      "display_name": "Python 3"
    },
    "language_info": {
      "name": "python"
    }
  },
  "cells": [
    {
      "cell_type": "markdown",
      "metadata": {
        "id": "view-in-github",
        "colab_type": "text"
      },
      "source": [
        "<a href=\"https://colab.research.google.com/github/angeldelantar/OOP-58001/blob/main/Lab_Activity_1.ipynb\" target=\"_parent\"><img src=\"https://colab.research.google.com/assets/colab-badge.svg\" alt=\"Open In Colab\"/></a>"
      ]
    },
    {
      "cell_type": "markdown",
      "source": [
        "Lab Activity 1"
      ],
      "metadata": {
        "id": "EtlBX5zCLOxW"
      }
    },
    {
      "cell_type": "code",
      "execution_count": 10,
      "metadata": {
        "colab": {
          "base_uri": "https://localhost:8080/"
        },
        "id": "P7_2ODcXLNGG",
        "outputId": "3f0a3a8d-b87a-4eed-c66a-9684e5011acf"
      },
      "outputs": [
        {
          "output_type": "stream",
          "name": "stdout",
          "text": [
            "Sum =  210\n",
            "Average =  10.5\n"
          ]
        }
      ],
      "source": [
        "a = 20\n",
        "total = a\n",
        "sum = 0\n",
        "average = 0\n",
        "\n",
        "while a >= 0:\n",
        "  sum += a\n",
        "  a -= 1\n",
        "else: \n",
        "  print (\"Sum = \", sum)\n",
        "  average = sum / total\n",
        "  print (\"Average = \", average)\n"
      ]
    }
  ]
}