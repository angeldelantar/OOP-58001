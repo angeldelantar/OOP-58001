{
  "nbformat": 4,
  "nbformat_minor": 0,
  "metadata": {
    "colab": {
      "provenance": [],
      "authorship_tag": "ABX9TyMFGcxCmZqKUADDXbW2HpRz",
      "include_colab_link": true
    },
    "kernelspec": {
      "name": "python3",
      "display_name": "Python 3"
    },
    "language_info": {
      "name": "python"
    }
  },
  "cells": [
    {
      "cell_type": "markdown",
      "metadata": {
        "id": "view-in-github",
        "colab_type": "text"
      },
      "source": [
        "<a href=\"https://colab.research.google.com/github/angeldelantar/OOP-58001/blob/main/List%2C_Tuples%2C_and_Dictionaries.ipynb\" target=\"_parent\"><img src=\"https://colab.research.google.com/assets/colab-badge.svg\" alt=\"Open In Colab\"/></a>"
      ]
    },
    {
      "cell_type": "markdown",
      "source": [
        "Functions"
      ],
      "metadata": {
        "id": "NmjOoyB6K0U6"
      }
    },
    {
      "cell_type": "code",
      "execution_count": 4,
      "metadata": {
        "colab": {
          "base_uri": "https://localhost:8080/"
        },
        "id": "RFS1vD2UJTWE",
        "outputId": "4339c578-b6f2-4d91-c514-0677e99a3f11"
      },
      "outputs": [
        {
          "output_type": "execute_result",
          "data": {
            "text/plain": [
              "50"
            ]
          },
          "metadata": {},
          "execution_count": 4
        }
      ],
      "source": [
        "class Shapes:\n",
        "  def __init__(self,length,width):\n",
        "    self.length = length\n",
        "    self.width = width\n",
        "  def area(self):\n",
        "    return self.length * self.width\n",
        "rectangle = Shapes(10,5)\n",
        "rectangle.area()\n"
      ]
    },
    {
      "cell_type": "code",
      "source": [
        "class Persons:\n",
        "  def __init__(self, name, age):\n",
        "    self.name = name\n",
        "    self.age = age\n",
        "  def info(self):\n",
        "    return self.name, self.age\n",
        "  \n",
        "print(\"Enter Fullname\")\n",
        "Name = str(input())\n",
        "print(\"Enter age\")\n",
        "Age = str(input())\n",
        "\n",
        "ikaw = Persons(Name, Age)\n",
        "ikaw.info()"
      ],
      "metadata": {
        "colab": {
          "base_uri": "https://localhost:8080/"
        },
        "id": "5GGpxVvpNqzU",
        "outputId": "4c58b28a-6046-4201-f28d-642f48b932fc"
      },
      "execution_count": 11,
      "outputs": [
        {
          "name": "stdout",
          "output_type": "stream",
          "text": [
            "Enter Fullname\n",
            "Shen Santiago\n",
            "Enter age\n",
            "1\n"
          ]
        },
        {
          "output_type": "execute_result",
          "data": {
            "text/plain": [
              "('Shen Santiago', '1')"
            ]
          },
          "metadata": {},
          "execution_count": 11
        }
      ]
    },
    {
      "cell_type": "code",
      "source": [
        "pow(10,2)\n",
        "array = [\"apple\", \"banana\", \"orange\"]\n",
        "array.insert(0, \"cherry\")\n",
        "print (array)"
      ],
      "metadata": {
        "colab": {
          "base_uri": "https://localhost:8080/"
        },
        "id": "bsPVKOTlNRUm",
        "outputId": "8a61ab17-699b-41d7-b2df-4e1ce55d7ff9"
      },
      "execution_count": 5,
      "outputs": [
        {
          "output_type": "stream",
          "name": "stdout",
          "text": [
            "['cherry', 'apple', 'banana', 'orange']\n"
          ]
        }
      ]
    },
    {
      "cell_type": "code",
      "source": [
        "pi = 3.14159\n",
        "varList = ['abc', 1, 'def', 2]\n",
        "print(varList[0])\n",
        "\n",
        "varList.append('ghi')\n",
        "print(varList)\n",
        "varList.remove(2)\n",
        "print(varList)\n",
        "varList.insert(3,3)\n",
        "print(varList)"
      ],
      "metadata": {
        "colab": {
          "base_uri": "https://localhost:8080/"
        },
        "id": "yOdHYbzSVOrw",
        "outputId": "3230b14e-64ac-468c-d91a-b4d4b9b50816"
      },
      "execution_count": 6,
      "outputs": [
        {
          "output_type": "stream",
          "name": "stdout",
          "text": [
            "abc\n",
            "['abc', 1, 'def', 2, 'ghi']\n",
            "['abc', 1, 'def', 'ghi']\n",
            "['abc', 1, 'def', 3, 'ghi']\n"
          ]
        }
      ]
    },
    {
      "cell_type": "markdown",
      "source": [
        "Dictionaries"
      ],
      "metadata": {
        "id": "R8aNMxlBWdVI"
      }
    },
    {
      "cell_type": "code",
      "source": [
        "students = {\n",
        "    1:\"Nang\",\n",
        "    2:\"Neng\",\n",
        "    3:\"Ning\",\n",
        "    4:\"Nong\",\n",
        "    5:\"Nung\"\n",
        "}\n",
        "print(students)"
      ],
      "metadata": {
        "colab": {
          "base_uri": "https://localhost:8080/"
        },
        "id": "RDZiy2U1Wffu",
        "outputId": "c07a4ae2-2c33-4afb-9a25-7624e4713401"
      },
      "execution_count": 12,
      "outputs": [
        {
          "output_type": "stream",
          "name": "stdout",
          "text": [
            "{1: 'Nang', 2: 'Neng', 3: 'Ning', 4: 'Nong', 5: 'Nung'}\n"
          ]
        }
      ]
    }
  ]
}