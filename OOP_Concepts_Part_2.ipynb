{
  "nbformat": 4,
  "nbformat_minor": 0,
  "metadata": {
    "colab": {
      "provenance": [],
      "authorship_tag": "ABX9TyN35oOUMiDGgXp0wG2vIKFf",
      "include_colab_link": true
    },
    "kernelspec": {
      "name": "python3",
      "display_name": "Python 3"
    },
    "language_info": {
      "name": "python"
    }
  },
  "cells": [
    {
      "cell_type": "markdown",
      "metadata": {
        "id": "view-in-github",
        "colab_type": "text"
      },
      "source": [
        "<a href=\"https://colab.research.google.com/github/angeldelantar/OOP-58001/blob/main/OOP_Concepts_Part_2.ipynb\" target=\"_parent\"><img src=\"https://colab.research.google.com/assets/colab-badge.svg\" alt=\"Open In Colab\"/></a>"
      ]
    },
    {
      "cell_type": "code",
      "source": [
        "#class with multiple objects\n",
        "\n",
        "class Birds:\n",
        "  def __init__(self, bird_name):\n",
        "    self.bird_name = bird_name\n",
        "  def flying_bird(self):\n",
        "    print(f\"{self.bird_name} flies above clouds\")\n",
        "  def non_flying_bird(self):\n",
        "    print(f\"{self.bird_name} is the National bird of the Philippines\")\n",
        "\n",
        "vulture = Birds(\"Griffon Vulture\")\n",
        "crane = Birds(\"Common Crane\")\n",
        "emu = Birds(\"Emu\")\n",
        "\n",
        "vulture.flying_bird()\n",
        "crane.flying_bird()\n",
        "emu.non_flying_bird()"
      ],
      "metadata": {
        "colab": {
          "base_uri": "https://localhost:8080/"
        },
        "id": "XMrCU8PYesl8",
        "outputId": "45bf9f07-1443-4201-c86a-7337a5a6b5c6"
      },
      "execution_count": 11,
      "outputs": [
        {
          "output_type": "stream",
          "name": "stdout",
          "text": [
            "Griffon Vulture flies above clouds\n",
            "Common Crane flies above clouds\n",
            "Emu is the National bird of the Philippines\n"
          ]
        }
      ]
    },
    {
      "cell_type": "code",
      "execution_count": 3,
      "metadata": {
        "colab": {
          "base_uri": "https://localhost:8080/"
        },
        "id": "sMl0RbZsZsQC",
        "outputId": "a746223e-53e2-4311-ad75-1cd58e1a6db6"
      },
      "outputs": [
        {
          "output_type": "execute_result",
          "data": {
            "text/plain": [
              "7"
            ]
          },
          "metadata": {},
          "execution_count": 3
        }
      ],
      "source": [
        "#Encapsulation\n",
        "\n",
        "class foo:\n",
        "  def __init__(self, a, b):\n",
        "    self.__a = a\n",
        "    self.__b = b\n",
        "  def add(self):\n",
        "    return self.__a + self.__b\n",
        "\n",
        "foo_object = foo(3,4)\n",
        "foo_object.add()\n",
        "foo_object.a = 5\n",
        "foo_object.add()"
      ]
    },
    {
      "cell_type": "code",
      "source": [
        "class Counter:\n",
        "  def __init__(self):\n",
        "    self.__current = 0\n",
        "\n",
        "  def increment(self):\n",
        "    self.__current += 1\n",
        "\n",
        "  def value(self):\n",
        "    return self.__current\n",
        "  \n",
        "  def reset(self):\n",
        "    self.__current = 0\n",
        "\n",
        "count = Counter()\n",
        "count.increment()\n",
        "count.value()\n",
        "count.reset()\n",
        "count.increment()\n",
        "count.value()"
      ],
      "metadata": {
        "colab": {
          "base_uri": "https://localhost:8080/"
        },
        "id": "gOBj8R7ncj1t",
        "outputId": "0d812ec9-7c98-4fe2-8412-199043940322"
      },
      "execution_count": 6,
      "outputs": [
        {
          "output_type": "execute_result",
          "data": {
            "text/plain": [
              "1"
            ]
          },
          "metadata": {},
          "execution_count": 6
        }
      ]
    },
    {
      "cell_type": "code",
      "source": [
        "#Inheritance\n",
        "\n",
        "class Person:\n",
        "  def __init__(self,name,birthdate):\n",
        "    self.name = name\n",
        "    self.birthdate = birthdate\n",
        "  def display(self):\n",
        "    print(f\"My name is\", self.name)\n",
        "    print(f\"My birthdate is\", self.birthdate)\n",
        "class Student(Person):\n",
        "  pass\n",
        "class Teacher(Person):\n",
        "  pass\n",
        "\n",
        "student = Student(\"Angel\",\"January 8, 2004\")\n",
        "student.display()\n",
        "teacher = Teacher(\"Ana\", \"Feb 14, 1990\")\n",
        "teacher.display()"
      ],
      "metadata": {
        "colab": {
          "base_uri": "https://localhost:8080/"
        },
        "id": "2mmUXVcae9RL",
        "outputId": "b9cde5d7-aff2-4167-d324-d86fd2b38b3f"
      },
      "execution_count": 9,
      "outputs": [
        {
          "output_type": "stream",
          "name": "stdout",
          "text": [
            "My name is Angel\n",
            "My birthdate is January 8, 2004\n",
            "My name is Ana\n",
            "My birthdate is Feb 14, 1990\n"
          ]
        }
      ]
    },
    {
      "cell_type": "code",
      "source": [
        "class Shapes:\n",
        "  def __init__(self, name, side):\n",
        "    self.__name = name\n",
        "    self.__side = side\n",
        "  \n",
        "  def display(self):\n",
        "    print(f\"The sides of the {self.__name} is\", self.__side)\n",
        "\n",
        "class Square(Shapes):\n",
        "  pass\n",
        "class Circle(Shapes):\n",
        "  pass\n",
        "class Triangle(Shapes):\n",
        "  pass\n",
        "class Oblong(Shapes):\n",
        "  pass\n",
        "class Rectangle(Shapes):\n",
        "  pass\n",
        "\n",
        "square = Square(4, 'Square')\n",
        "square.display()\n",
        "circle = Circle(0, 'Circle')\n",
        "circle.display()\n",
        "triangle = Triangle(3,'Triangle')\n",
        "triangle.display()\n",
        "oblong = Oblong(0, 'Oblong')\n",
        "oblong.display()\n",
        "rectangle = Rectangle(4, 'Rectangle')\n",
        "rectangle.display()"
      ],
      "metadata": {
        "colab": {
          "base_uri": "https://localhost:8080/"
        },
        "id": "UPVzMau-gtRD",
        "outputId": "14bf4e98-0656-46db-ecec-b259b3e70e06"
      },
      "execution_count": 16,
      "outputs": [
        {
          "output_type": "stream",
          "name": "stdout",
          "text": [
            "The sides of the 4 is Square\n",
            "The sides of the 0 is Circle\n",
            "The sides of the 3 is Triangle\n",
            "The sides of the 0 is Oblong\n",
            "The sides of the 4 is Rectangle\n"
          ]
        }
      ]
    }
  ]
}