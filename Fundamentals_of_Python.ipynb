{
  "nbformat": 4,
  "nbformat_minor": 0,
  "metadata": {
    "colab": {
      "provenance": [],
      "authorship_tag": "ABX9TyOnQ0mDCVkNd+p0ProLteFO",
      "include_colab_link": true
    },
    "kernelspec": {
      "name": "python3",
      "display_name": "Python 3"
    },
    "language_info": {
      "name": "python"
    }
  },
  "cells": [
    {
      "cell_type": "markdown",
      "metadata": {
        "id": "view-in-github",
        "colab_type": "text"
      },
      "source": [
        "<a href=\"https://colab.research.google.com/github/angeldelantar/OOP-58001/blob/main/Fundamentals_of_Python.ipynb\" target=\"_parent\"><img src=\"https://colab.research.google.com/assets/colab-badge.svg\" alt=\"Open In Colab\"/></a>"
      ]
    },
    {
      "cell_type": "markdown",
      "source": [
        "Fundamentals of Python"
      ],
      "metadata": {
        "id": "4zqQkQA4TwvW"
      }
    },
    {
      "cell_type": "markdown",
      "source": [
        "Information"
      ],
      "metadata": {
        "id": "llLeNWRqT05O"
      }
    },
    {
      "cell_type": "code",
      "execution_count": 1,
      "metadata": {
        "colab": {
          "base_uri": "https://localhost:8080/"
        },
        "id": "eDIXgQ4eTYdH",
        "outputId": "736c1d7b-a7b7-4ea9-b2f5-7077a7f8e644"
      },
      "outputs": [
        {
          "output_type": "stream",
          "name": "stdout",
          "text": [
            "5 > 2\n"
          ]
        }
      ],
      "source": [
        "if 5 > 2:\n",
        "  print(\"5 > 2\") \n",
        "  5 > 2"
      ]
    },
    {
      "cell_type": "markdown",
      "source": [
        "Python Comment"
      ],
      "metadata": {
        "id": "ko-NizBtUN41"
      }
    },
    {
      "cell_type": "code",
      "source": [
        "#This is a comment\n",
        "print(\"Hello World!\")"
      ],
      "metadata": {
        "colab": {
          "base_uri": "https://localhost:8080/"
        },
        "id": "y1bC-0y9UR22",
        "outputId": "766a67e9-b84f-4432-915f-03875ab72550"
      },
      "execution_count": 2,
      "outputs": [
        {
          "output_type": "stream",
          "name": "stdout",
          "text": [
            "Hello World!\n"
          ]
        }
      ]
    },
    {
      "cell_type": "markdown",
      "source": [
        "Python Variable"
      ],
      "metadata": {
        "id": "IHAyY4obUe_2"
      }
    },
    {
      "cell_type": "code",
      "source": [
        "#Single variable with multiple variable\n",
        "\n",
        "x = 1\n",
        "\n",
        "#Single variable with multiple values\n",
        "\n",
        "array = [1,2,3]\n",
        "print (array)\n",
        "\n",
        "#Multiple variables with single value\n",
        "\n",
        "a = b = c = \"Angel\"\n",
        "print (a,b,c)\n",
        "print (a)\n",
        "print (b)\n",
        "print (c)"
      ],
      "metadata": {
        "colab": {
          "base_uri": "https://localhost:8080/"
        },
        "id": "5UMnuDw5Uh8O",
        "outputId": "fe2c71bd-12b6-4a22-80f0-195df8819b52"
      },
      "execution_count": 3,
      "outputs": [
        {
          "output_type": "stream",
          "name": "stdout",
          "text": [
            "[1, 2, 3]\n",
            "Angel Angel Angel\n",
            "Angel\n",
            "Angel\n",
            "Angel\n"
          ]
        }
      ]
    },
    {
      "cell_type": "markdown",
      "source": [
        "Python Casting"
      ],
      "metadata": {
        "id": "u_KRQ1CNVT-e"
      }
    },
    {
      "cell_type": "code",
      "source": [
        "n = int(4)\n",
        "print(n)"
      ],
      "metadata": {
        "colab": {
          "base_uri": "https://localhost:8080/"
        },
        "id": "BuabQa3PVXd-",
        "outputId": "404aada3-bf53-4705-e83d-5249b8e5f73b"
      },
      "execution_count": 4,
      "outputs": [
        {
          "output_type": "stream",
          "name": "stdout",
          "text": [
            "4\n"
          ]
        }
      ]
    },
    {
      "cell_type": "markdown",
      "source": [
        "Type Function "
      ],
      "metadata": {
        "id": "SwCNymESVgJV"
      }
    },
    {
      "cell_type": "code",
      "source": [
        "c = \"Allen\"\n",
        "d = 5.6\n",
        "print(type(c))\n",
        "print(type(d))"
      ],
      "metadata": {
        "colab": {
          "base_uri": "https://localhost:8080/"
        },
        "id": "DSFpXhR9Viq-",
        "outputId": "6017803c-5b9e-461b-b977-8ec1cdd67c75"
      },
      "execution_count": 5,
      "outputs": [
        {
          "output_type": "stream",
          "name": "stdout",
          "text": [
            "<class 'str'>\n",
            "<class 'float'>\n"
          ]
        }
      ]
    }
  ]
}