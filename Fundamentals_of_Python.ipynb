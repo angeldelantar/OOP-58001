{
  "nbformat": 4,
  "nbformat_minor": 0,
  "metadata": {
    "colab": {
      "provenance": [],
      "authorship_tag": "ABX9TyPUUaC6/+ywdHMusFwAUusr",
      "include_colab_link": true
    },
    "kernelspec": {
      "name": "python3",
      "display_name": "Python 3"
    },
    "language_info": {
      "name": "python"
    }
  },
  "cells": [
    {
      "cell_type": "markdown",
      "metadata": {
        "id": "view-in-github",
        "colab_type": "text"
      },
      "source": [
        "<a href=\"https://colab.research.google.com/github/angeldelantar/OOP-58001/blob/main/Fundamentals_of_Python.ipynb\" target=\"_parent\"><img src=\"https://colab.research.google.com/assets/colab-badge.svg\" alt=\"Open In Colab\"/></a>"
      ]
    },
    {
      "cell_type": "markdown",
      "source": [
        "Fundamentals of Python"
      ],
      "metadata": {
        "id": "4zqQkQA4TwvW"
      }
    },
    {
      "cell_type": "markdown",
      "source": [
        "Information"
      ],
      "metadata": {
        "id": "llLeNWRqT05O"
      }
    },
    {
      "cell_type": "code",
      "execution_count": null,
      "metadata": {
        "colab": {
          "base_uri": "https://localhost:8080/"
        },
        "id": "eDIXgQ4eTYdH",
        "outputId": "736c1d7b-a7b7-4ea9-b2f5-7077a7f8e644"
      },
      "outputs": [
        {
          "output_type": "stream",
          "name": "stdout",
          "text": [
            "5 > 2\n"
          ]
        }
      ],
      "source": [
        "if 5 > 2:\n",
        "  print(\"5 > 2\") \n",
        "  5 > 2"
      ]
    },
    {
      "cell_type": "markdown",
      "source": [
        "Python Comment"
      ],
      "metadata": {
        "id": "ko-NizBtUN41"
      }
    },
    {
      "cell_type": "code",
      "source": [
        "#This is a comment\n",
        "print(\"Hello World!\")"
      ],
      "metadata": {
        "colab": {
          "base_uri": "https://localhost:8080/"
        },
        "id": "y1bC-0y9UR22",
        "outputId": "766a67e9-b84f-4432-915f-03875ab72550"
      },
      "execution_count": null,
      "outputs": [
        {
          "output_type": "stream",
          "name": "stdout",
          "text": [
            "Hello World!\n"
          ]
        }
      ]
    },
    {
      "cell_type": "markdown",
      "source": [
        "Python Variable"
      ],
      "metadata": {
        "id": "IHAyY4obUe_2"
      }
    },
    {
      "cell_type": "code",
      "source": [
        "#Single variable with multiple variable\n",
        "\n",
        "x = 1\n",
        "\n",
        "#Single variable with multiple values\n",
        "\n",
        "array = [1,2,3]\n",
        "print (array)\n",
        "\n",
        "#Multiple variables with single value\n",
        "\n",
        "a = b = c = \"Angel\"\n",
        "print (a,b,c)\n",
        "print (a)\n",
        "print (b)\n",
        "print (c)"
      ],
      "metadata": {
        "colab": {
          "base_uri": "https://localhost:8080/"
        },
        "id": "5UMnuDw5Uh8O",
        "outputId": "fe2c71bd-12b6-4a22-80f0-195df8819b52"
      },
      "execution_count": null,
      "outputs": [
        {
          "output_type": "stream",
          "name": "stdout",
          "text": [
            "[1, 2, 3]\n",
            "Angel Angel Angel\n",
            "Angel\n",
            "Angel\n",
            "Angel\n"
          ]
        }
      ]
    },
    {
      "cell_type": "markdown",
      "source": [
        "Python Casting"
      ],
      "metadata": {
        "id": "u_KRQ1CNVT-e"
      }
    },
    {
      "cell_type": "code",
      "source": [
        "n = int(4)\n",
        "print(n)"
      ],
      "metadata": {
        "colab": {
          "base_uri": "https://localhost:8080/"
        },
        "id": "BuabQa3PVXd-",
        "outputId": "404aada3-bf53-4705-e83d-5249b8e5f73b"
      },
      "execution_count": null,
      "outputs": [
        {
          "output_type": "stream",
          "name": "stdout",
          "text": [
            "4\n"
          ]
        }
      ]
    },
    {
      "cell_type": "markdown",
      "source": [
        "Type Function "
      ],
      "metadata": {
        "id": "SwCNymESVgJV"
      }
    },
    {
      "cell_type": "code",
      "source": [
        "c = \"Allen\"\n",
        "d = 5.6\n",
        "print(type(c))\n",
        "print(type(d))"
      ],
      "metadata": {
        "colab": {
          "base_uri": "https://localhost:8080/"
        },
        "id": "DSFpXhR9Viq-",
        "outputId": "6017803c-5b9e-461b-b977-8ec1cdd67c75"
      },
      "execution_count": null,
      "outputs": [
        {
          "output_type": "stream",
          "name": "stdout",
          "text": [
            "<class 'str'>\n",
            "<class 'float'>\n"
          ]
        }
      ]
    },
    {
      "cell_type": "markdown",
      "source": [
        "\"Double qoutes\" or 'Single' quotes\n"
      ],
      "metadata": {
        "id": "Uq3QPqa3zVo7"
      }
    },
    {
      "cell_type": "code",
      "source": [
        "y = \"Angel\"\n",
        "y = 'Angel'"
      ],
      "metadata": {
        "id": "c6KUFqcJz_Di"
      },
      "execution_count": 5,
      "outputs": []
    },
    {
      "cell_type": "markdown",
      "source": [
        "Case sensitive"
      ],
      "metadata": {
        "id": "NehKQ_zp1I4U"
      }
    },
    {
      "cell_type": "code",
      "source": [
        "#A will not overwrite a\n",
        "\n",
        "a = 4\n",
        "A = \"Angel\"\n"
      ],
      "metadata": {
        "id": "1xsYwrR71M6d"
      },
      "execution_count": 7,
      "outputs": []
    },
    {
      "cell_type": "markdown",
      "source": [
        "Multiple Variables"
      ],
      "metadata": {
        "id": "TT5SZ_du1Y5-"
      }
    },
    {
      "cell_type": "code",
      "source": [
        "x,y,z = \"one\", \"two\", \"three\"\n",
        "print (x)\n",
        "print (y)\n",
        "print (z)"
      ],
      "metadata": {
        "id": "BW_nVNea1dOm",
        "outputId": "db124c5e-c693-49da-e6f7-a9972ce6836e",
        "colab": {
          "base_uri": "https://localhost:8080/"
        }
      },
      "execution_count": 8,
      "outputs": [
        {
          "output_type": "stream",
          "name": "stdout",
          "text": [
            "one\n",
            "two\n",
            "three\n"
          ]
        }
      ]
    },
    {
      "cell_type": "markdown",
      "source": [
        "One Value to Multiple Variables"
      ],
      "metadata": {
        "id": "8Mac65n01ve1"
      }
    },
    {
      "cell_type": "code",
      "source": [
        "x = y = z =\"four\"\n",
        "print(x)\n",
        "print (y)\n",
        "print (z)"
      ],
      "metadata": {
        "id": "2BleQJvh18aJ",
        "outputId": "ea95ffd5-1648-4d04-c97a-ca9a86715f2e",
        "colab": {
          "base_uri": "https://localhost:8080/"
        }
      },
      "execution_count": 9,
      "outputs": [
        {
          "output_type": "stream",
          "name": "stdout",
          "text": [
            "four\n",
            "four\n",
            "four\n"
          ]
        }
      ]
    },
    {
      "cell_type": "markdown",
      "source": [
        "Output Variables"
      ],
      "metadata": {
        "id": "bVDuCRMs2VeB"
      }
    },
    {
      "cell_type": "code",
      "source": [
        "x = \"enjoying\"\n",
        "print(\"Python programming is \" + x)"
      ],
      "metadata": {
        "id": "cdgHle1-2X8o",
        "outputId": "002ce41f-4615-478a-a1fa-a8514baab4c2",
        "colab": {
          "base_uri": "https://localhost:8080/"
        }
      },
      "execution_count": 10,
      "outputs": [
        {
          "output_type": "stream",
          "name": "stdout",
          "text": [
            "Python programming is enjoying\n"
          ]
        }
      ]
    },
    {
      "cell_type": "markdown",
      "source": [
        "Other way:"
      ],
      "metadata": {
        "id": "Mh-bcpK72nrj"
      }
    },
    {
      "cell_type": "code",
      "source": [
        "x = \"Python is \"\n",
        "y = \"enjoying\"\n",
        "z = x + y\n",
        "print(z)\n"
      ],
      "metadata": {
        "id": "qzUoAJC82xrq",
        "outputId": "74959234-fcbd-4249-db48-5b1675f4d877",
        "colab": {
          "base_uri": "https://localhost:8080/"
        }
      },
      "execution_count": 11,
      "outputs": [
        {
          "output_type": "stream",
          "name": "stdout",
          "text": [
            "Python is enjoying\n"
          ]
        }
      ]
    },
    {
      "cell_type": "markdown",
      "source": [
        "Arithmetic Operations"
      ],
      "metadata": {
        "id": "YQzTpctw3NQc"
      }
    },
    {
      "cell_type": "code",
      "source": [
        "x = 5\n",
        "y = 3\n",
        "print(x + y)\n",
        "\n",
        "x = 5\n",
        "y = 3\n",
        "sum=x+y\n",
        "sum"
      ],
      "metadata": {
        "id": "iZFaLbDc3c9Y",
        "outputId": "40148d9e-df61-4773-bfba-0639e45efb3e",
        "colab": {
          "base_uri": "https://localhost:8080/"
        }
      },
      "execution_count": 12,
      "outputs": [
        {
          "output_type": "stream",
          "name": "stdout",
          "text": [
            "8\n"
          ]
        },
        {
          "output_type": "execute_result",
          "data": {
            "text/plain": [
              "8"
            ]
          },
          "metadata": {},
          "execution_count": 12
        }
      ]
    },
    {
      "cell_type": "markdown",
      "source": [
        "Assignment Operators"
      ],
      "metadata": {
        "id": "yCJiazhq3uGq"
      }
    },
    {
      "cell_type": "code",
      "source": [
        "a,b,c=0,-1,6\n",
        "c%=3\n",
        "c"
      ],
      "metadata": {
        "id": "FCJp2ge33xng",
        "outputId": "43c1929c-ef93-473c-c3eb-cd6f673632f2",
        "colab": {
          "base_uri": "https://localhost:8080/"
        }
      },
      "execution_count": 13,
      "outputs": [
        {
          "output_type": "execute_result",
          "data": {
            "text/plain": [
              "0"
            ]
          },
          "metadata": {},
          "execution_count": 13
        }
      ]
    },
    {
      "cell_type": "markdown",
      "source": [
        "Comparison Operators and Logical Operators"
      ],
      "metadata": {
        "id": "Bg0llppr38JO"
      }
    },
    {
      "cell_type": "code",
      "source": [
        "a,b,c=0,-1,6\n",
        "a>b and c>b\n"
      ],
      "metadata": {
        "id": "rMVlAcaS4sHL",
        "outputId": "f74d447c-41eb-4a22-9535-7fcd200f61bb",
        "colab": {
          "base_uri": "https://localhost:8080/"
        }
      },
      "execution_count": 15,
      "outputs": [
        {
          "output_type": "execute_result",
          "data": {
            "text/plain": [
              "True"
            ]
          },
          "metadata": {},
          "execution_count": 15
        }
      ]
    },
    {
      "cell_type": "markdown",
      "source": [
        "Identity Operators"
      ],
      "metadata": {
        "id": "AxS23f9D41yx"
      }
    },
    {
      "cell_type": "code",
      "source": [
        "a,b,c=0,-1,5\n",
        "a is c\n"
      ],
      "metadata": {
        "id": "QSM04lob46XY",
        "outputId": "12d55a32-e24b-49f8-930c-beda6b0c06b3",
        "colab": {
          "base_uri": "https://localhost:8080/"
        }
      },
      "execution_count": 14,
      "outputs": [
        {
          "output_type": "execute_result",
          "data": {
            "text/plain": [
              "False"
            ]
          },
          "metadata": {},
          "execution_count": 14
        }
      ]
    }
  ]
}