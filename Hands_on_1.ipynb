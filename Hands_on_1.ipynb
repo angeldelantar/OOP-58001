{
  "nbformat": 4,
  "nbformat_minor": 0,
  "metadata": {
    "colab": {
      "provenance": [],
      "authorship_tag": "ABX9TyOOHtrNaGe3GGu6//2Bh+o0",
      "include_colab_link": true
    },
    "kernelspec": {
      "name": "python3",
      "display_name": "Python 3"
    },
    "language_info": {
      "name": "python"
    }
  },
  "cells": [
    {
      "cell_type": "markdown",
      "metadata": {
        "id": "view-in-github",
        "colab_type": "text"
      },
      "source": [
        "<a href=\"https://colab.research.google.com/github/angeldelantar/OOP-58001/blob/main/Hands_on_1.ipynb\" target=\"_parent\"><img src=\"https://colab.research.google.com/assets/colab-badge.svg\" alt=\"Open In Colab\"/></a>"
      ]
    },
    {
      "cell_type": "code",
      "execution_count": 5,
      "metadata": {
        "colab": {
          "base_uri": "https://localhost:8080/"
        },
        "id": "h0LLgH71ZeyX",
        "outputId": "ea1a3a8b-8fde-4ff4-bd3f-12db36883c1f"
      },
      "outputs": [
        {
          "output_type": "stream",
          "name": "stdout",
          "text": [
            "Student 1 grades: 75 75 80\n",
            "Student 1 average grade: 76.66666666666667\n",
            "Student 2 grades: 75 90 85\n",
            "Student 2 average grade: 83.33333333333333\n",
            "Student 3 grades: 90 99 84\n",
            "Student 3 average grade: 91.0\n"
          ]
        }
      ],
      "source": [
        "class Person:\n",
        "  def __init__(self, name, prelim, midterm, final):\n",
        "    self.name = name\n",
        "    self.__pre = prelim\n",
        "    self.__mid = midterm\n",
        "    self.__fin = final\n",
        "\n",
        "  def prelim_grade(self):\n",
        "    return self.__pre\n",
        "  \n",
        "  def midterm_grade(self):\n",
        "    return self.__mid\n",
        "\n",
        "  def final_grade(self):\n",
        "    return self.__fin\n",
        "  \n",
        "  def ave(self):\n",
        "    return (self.__pre + self.__mid + self.__fin) / 3\n",
        "\n",
        "std1 = Person(\"Student 1\", 75, 75, 80)\n",
        "std2 = Person(\"Student 2\", 75, 90, 85)\n",
        "std3 = Person(\"Student 3\", 90, 99, 84)\n",
        "\n",
        "print(f\"Student 1 grades:\", std1.prelim_grade(), std1.midterm_grade(), std1.final_grade())\n",
        "print(f\"Student 1 average grade:\", std1.ave())\n",
        "print(f\"Student 2 grades:\", std2.prelim_grade(), std2.midterm_grade(), std2.final_grade())\n",
        "print(f\"Student 2 average grade:\", std2.ave())\n",
        "print(f\"Student 3 grades:\", std3.prelim_grade(), std3.midterm_grade(), std3.final_grade())\n",
        "print(f\"Student 3 average grade:\", std3.ave())\n"
      ]
    }
  ]
}