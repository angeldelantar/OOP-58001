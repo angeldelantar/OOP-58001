{
  "nbformat": 4,
  "nbformat_minor": 0,
  "metadata": {
    "colab": {
      "provenance": [],
      "authorship_tag": "ABX9TyPLwupMDhzb8kMZqAYfciQe",
      "include_colab_link": true
    },
    "kernelspec": {
      "name": "python3",
      "display_name": "Python 3"
    },
    "language_info": {
      "name": "python"
    }
  },
  "cells": [
    {
      "cell_type": "markdown",
      "metadata": {
        "id": "view-in-github",
        "colab_type": "text"
      },
      "source": [
        "<a href=\"https://colab.research.google.com/github/angeldelantar/OOP-58001/blob/main/Operations_and_Expressions_in_Python.ipynb\" target=\"_parent\"><img src=\"https://colab.research.google.com/assets/colab-badge.svg\" alt=\"Open In Colab\"/></a>"
      ]
    },
    {
      "cell_type": "markdown",
      "source": [
        "Boolean Operators"
      ],
      "metadata": {
        "id": "TmhrwCDETZ-b"
      }
    },
    {
      "cell_type": "code",
      "source": [
        "print (10 > 9)\n",
        "print (10 == 9)\n",
        "print (10 < 9)"
      ],
      "metadata": {
        "colab": {
          "base_uri": "https://localhost:8080/"
        },
        "id": "hlR2URUyTf0C",
        "outputId": "152948a2-a765-495e-869e-07417a7605da"
      },
      "execution_count": 2,
      "outputs": [
        {
          "output_type": "stream",
          "name": "stdout",
          "text": [
            "True\n",
            "False\n",
            "False\n"
          ]
        }
      ]
    },
    {
      "cell_type": "markdown",
      "source": [
        "Bool() Function"
      ],
      "metadata": {
        "id": "E3Mq90W8UhDx"
      }
    },
    {
      "cell_type": "code",
      "source": [
        "print (bool(\"cheonsa\"))\n",
        "print (bool(18))\n",
        "print (bool(0))\n",
        "print (bool(None))\n",
        "print (bool(True))"
      ],
      "metadata": {
        "colab": {
          "base_uri": "https://localhost:8080/"
        },
        "id": "d49ccqjBUjaR",
        "outputId": "654f63f6-93bc-4ca2-81a4-161dfc45657c"
      },
      "execution_count": 4,
      "outputs": [
        {
          "output_type": "stream",
          "name": "stdout",
          "text": [
            "True\n",
            "True\n",
            "False\n",
            "False\n",
            "True\n"
          ]
        }
      ]
    },
    {
      "cell_type": "markdown",
      "source": [
        "Functions can Return a Boolean"
      ],
      "metadata": {
        "id": "juI2BMhOVc5A"
      }
    },
    {
      "cell_type": "code",
      "source": [
        "def downtownfunction():\n",
        "  return True\n",
        "\n",
        "print(downtownfunction())\n"
      ],
      "metadata": {
        "colab": {
          "base_uri": "https://localhost:8080/"
        },
        "id": "3suZWY_1VkMB",
        "outputId": "0cc15327-6007-4979-8429-a2c1e9f5aa58"
      },
      "execution_count": 6,
      "outputs": [
        {
          "output_type": "stream",
          "name": "stdout",
          "text": [
            "True\n"
          ]
        }
      ]
    },
    {
      "cell_type": "code",
      "source": [
        "def downtownfunction():\n",
        "  return False\n",
        "if downtownfunction():\n",
        "  print(\"Yes!\")\n",
        "else:\n",
        "  print(\"No!\")"
      ],
      "metadata": {
        "colab": {
          "base_uri": "https://localhost:8080/"
        },
        "id": "aEldwiIzWvYV",
        "outputId": "92a065d2-ee82-4ec6-f12c-94533387b81a"
      },
      "execution_count": 8,
      "outputs": [
        {
          "output_type": "stream",
          "name": "stdout",
          "text": [
            "No!\n"
          ]
        }
      ]
    },
    {
      "cell_type": "markdown",
      "source": [
        "Comparison Operator"
      ],
      "metadata": {
        "id": "wnS0AgnUXg-D"
      }
    },
    {
      "cell_type": "code",
      "source": [
        "print (10>9)\n",
        "a = 6\n",
        "b = 7\n",
        "print(a == b)\n",
        "print(a != a)"
      ],
      "metadata": {
        "colab": {
          "base_uri": "https://localhost:8080/"
        },
        "id": "lKhc9UafXjqE",
        "outputId": "9beae801-85e5-4d21-bd8f-ad37eda3c65e"
      },
      "execution_count": 9,
      "outputs": [
        {
          "output_type": "stream",
          "name": "stdout",
          "text": [
            "True\n",
            "False\n",
            "False\n"
          ]
        }
      ]
    },
    {
      "cell_type": "markdown",
      "source": [
        "Python Operators"
      ],
      "metadata": {
        "id": "HSWYL5RSYhsT"
      }
    },
    {
      "cell_type": "code",
      "source": [
        "print (11 + 5)\n",
        "print (10 - 5)\n",
        "print (10*5)\n",
        "print (10**5)\n",
        "print (10/5)\n",
        "print (10%5)\n",
        "print (10//5)"
      ],
      "metadata": {
        "colab": {
          "base_uri": "https://localhost:8080/"
        },
        "id": "1QVarqeYYpPT",
        "outputId": "358d36c6-7484-4704-9f8e-539a9685ed36"
      },
      "execution_count": 10,
      "outputs": [
        {
          "output_type": "stream",
          "name": "stdout",
          "text": [
            "16\n",
            "5\n",
            "50\n",
            "100000\n",
            "2.0\n",
            "0\n",
            "2\n"
          ]
        }
      ]
    },
    {
      "cell_type": "markdown",
      "source": [
        "Python Bitwise Operators"
      ],
      "metadata": {
        "id": "mazTh1q5Znkt"
      }
    },
    {
      "cell_type": "code",
      "source": [
        "a = 60\n",
        "b = 13\n",
        "\n",
        "a>>1"
      ],
      "metadata": {
        "colab": {
          "base_uri": "https://localhost:8080/"
        },
        "id": "_20VHDSXZrOb",
        "outputId": "6d06b20e-90de-4717-b4ab-cfcec384c0a8"
      },
      "execution_count": 11,
      "outputs": [
        {
          "output_type": "execute_result",
          "data": {
            "text/plain": [
              "30"
            ]
          },
          "metadata": {},
          "execution_count": 11
        }
      ]
    }
  ]
}