{
  "nbformat": 4,
  "nbformat_minor": 0,
  "metadata": {
    "colab": {
      "provenance": [],
      "authorship_tag": "ABX9TyN7H8puvfL7uIhvrpIBfzWk",
      "include_colab_link": true
    },
    "kernelspec": {
      "name": "python3",
      "display_name": "Python 3"
    },
    "language_info": {
      "name": "python"
    }
  },
  "cells": [
    {
      "cell_type": "markdown",
      "metadata": {
        "id": "view-in-github",
        "colab_type": "text"
      },
      "source": [
        "<a href=\"https://colab.research.google.com/github/angeldelantar/OOP-58001/blob/main/Control_Structure.ipynb\" target=\"_parent\"><img src=\"https://colab.research.google.com/assets/colab-badge.svg\" alt=\"Open In Colab\"/></a>"
      ]
    },
    {
      "cell_type": "markdown",
      "source": [
        "Conditional Statement"
      ],
      "metadata": {
        "id": "NLVzR_7hDuO4"
      }
    },
    {
      "cell_type": "code",
      "execution_count": 6,
      "metadata": {
        "colab": {
          "base_uri": "https://localhost:8080/"
        },
        "id": "OgJUzaKoDnf9",
        "outputId": "3c209d56-dd28-42f6-d784-753ed7b85dd1"
      },
      "outputs": [
        {
          "output_type": "stream",
          "name": "stdout",
          "text": [
            "b is greater than a\n"
          ]
        }
      ],
      "source": [
        "#If Statement\n",
        "a = 12\n",
        "b = 100\n",
        "if b > a:\n",
        "  print (\"b is greater than a\")"
      ]
    },
    {
      "cell_type": "code",
      "source": [
        "x = input()\n",
        "y = input()\n",
        "\n",
        "if x>y:\n",
        "  print(x + \"is greater than\" + y)"
      ],
      "metadata": {
        "colab": {
          "base_uri": "https://localhost:8080/"
        },
        "id": "VjPmtJ7RGE0n",
        "outputId": "3daff606-38f9-48c9-b39d-7646e6fb6859"
      },
      "execution_count": 7,
      "outputs": [
        {
          "output_type": "stream",
          "name": "stdout",
          "text": [
            "9\n",
            "6\n",
            "9is greater than6\n"
          ]
        }
      ]
    },
    {
      "cell_type": "code",
      "source": [
        "#Elif Statement\n",
        "a = 12\n",
        "b = 10\n",
        "\n",
        "if a < b:\n",
        "  print(\"b is greater than a\")\n",
        "elif a > b:\n",
        "  print(\"a is greater than b\")"
      ],
      "metadata": {
        "colab": {
          "base_uri": "https://localhost:8080/"
        },
        "id": "umGpgfrIHhgm",
        "outputId": "e3221d25-db43-4a06-d367-c2537e60db62"
      },
      "execution_count": 12,
      "outputs": [
        {
          "output_type": "stream",
          "name": "stdout",
          "text": [
            "a is greater than b\n"
          ]
        }
      ]
    },
    {
      "cell_type": "code",
      "source": [
        "#Else Statements\n",
        "\n",
        "a = 94\n",
        "b = 94\n",
        "\n",
        "if a > b:\n",
        "  print(\"a is greater than b\")\n",
        "elif b < a:\n",
        "  print(\"b is greater than a\")\n",
        "else:\n",
        "  print(\"a and b are equal\")"
      ],
      "metadata": {
        "colab": {
          "base_uri": "https://localhost:8080/"
        },
        "id": "ewhyL7yHH-C-",
        "outputId": "05c3b032-91a4-4e0a-c4c3-cd327eb8148e"
      },
      "execution_count": 14,
      "outputs": [
        {
          "output_type": "stream",
          "name": "stdout",
          "text": [
            "a and b are equal\n"
          ]
        }
      ]
    },
    {
      "cell_type": "markdown",
      "source": [
        "Nested if"
      ],
      "metadata": {
        "id": "2KYOMKO4Ja2O"
      }
    },
    {
      "cell_type": "code",
      "source": [
        "x = 41\n",
        "\n",
        "if x > 10:\n",
        "  print(\"Above 10,\")\n",
        "  if x > 20:\n",
        "    print(\"also above 20\")\n",
        "    if x > 30:\n",
        "      print(\"also above 30\")\n",
        "      if x > 40:\n",
        "        print(\"also above 40\")\n",
        "        if x > 50:\n",
        "          print(\"also above 50\")\n",
        "        else:\n",
        "          print(\"below 50\")\n",
        "      else:\n",
        "        print(\"below 40\")\n",
        "    else:\n",
        "      print(\"below 30\")\n",
        "  else:\n",
        "    print(\"below 20\")\n",
        "else:\n",
        "  print(\"below 10\")\n"
      ],
      "metadata": {
        "colab": {
          "base_uri": "https://localhost:8080/"
        },
        "id": "S0AJ5iz5Jg4F",
        "outputId": "72d606b0-e3b8-46bd-b4d2-5870f92634ec"
      },
      "execution_count": 17,
      "outputs": [
        {
          "output_type": "stream",
          "name": "stdout",
          "text": [
            "Above 10,\n",
            "also above 20\n",
            "also above 30\n",
            "also above 40\n",
            "below 50\n"
          ]
        }
      ]
    },
    {
      "cell_type": "markdown",
      "source": [
        "Example 1"
      ],
      "metadata": {
        "id": "WXHJtW3aNMgd"
      }
    },
    {
      "cell_type": "code",
      "source": [
        "#Age Voter Qualification\n",
        "\n",
        "print(\"What is your age?\")\n",
        "x = int(input())\n",
        "\n",
        "if x >= 18:\n",
        "  print(\"You are Qualified to vote\")\n",
        "else:\n",
        "  print(\"You are not qualified to vote\")\n",
        " \n",
        " "
      ],
      "metadata": {
        "colab": {
          "base_uri": "https://localhost:8080/"
        },
        "id": "3Nyu8U70NOPw",
        "outputId": "64193c7c-c454-45f1-9545-3ea889deb512"
      },
      "execution_count": 27,
      "outputs": [
        {
          "output_type": "stream",
          "name": "stdout",
          "text": [
            "What is your age?\n",
            "5\n",
            "You are not qualified to vote\n"
          ]
        }
      ]
    },
    {
      "cell_type": "markdown",
      "source": [
        "Example 2"
      ],
      "metadata": {
        "id": "zjowIQEBNeyn"
      }
    },
    {
      "cell_type": "code",
      "source": [
        "#Positive, Negative, or Zero\n",
        "\n",
        "print(\"Enter a Number\")\n",
        "x = int(input())\n",
        "\n",
        "if x < 0:\n",
        "  print(\"The number is NEGATIVE\")\n",
        "elif x > 0:\n",
        "  print(\"The number is POSITIVE\")\n",
        "else:\n",
        "  print(\"ZERO\")"
      ],
      "metadata": {
        "colab": {
          "base_uri": "https://localhost:8080/"
        },
        "id": "75bzvltXNgN1",
        "outputId": "9d235574-6d1a-4be3-8ffa-fbac8b481c5e"
      },
      "execution_count": 28,
      "outputs": [
        {
          "output_type": "stream",
          "name": "stdout",
          "text": [
            "Enter a Number\n",
            "-1\n",
            "The number is NEGATIVE\n"
          ]
        }
      ]
    },
    {
      "cell_type": "markdown",
      "source": [
        "Example 3"
      ],
      "metadata": {
        "id": "43hpzT8tNgr2"
      }
    },
    {
      "cell_type": "code",
      "source": [
        "#Grading System\n",
        "\n",
        "print(\"What is your grade?\")\n",
        "a = float(input())\n",
        "\n",
        "if a >= 70 and a <= 100:\n",
        "  print(\"luh pasado ka teh\")\n",
        "elif a < 70 and a >=65:\n",
        "  print(\"luh ulet ka teh\")\n",
        "elif a < 65 and a >=0:\n",
        "  print(\"luh shift ka na teh\")\n",
        "elif a < 0 or a > 100:\n",
        "  print(\"ginagawa mo teh\")\n",
        "else:\n",
        "  print(\"Please try again\")"
      ],
      "metadata": {
        "colab": {
          "base_uri": "https://localhost:8080/"
        },
        "id": "9f5_4DiONiQ1",
        "outputId": "d329759a-0993-45e6-e543-c4f5b553db1a"
      },
      "execution_count": 37,
      "outputs": [
        {
          "output_type": "stream",
          "name": "stdout",
          "text": [
            "What is your grade?\n",
            "-0.99\n",
            "ginagawa mo teh\n"
          ]
        }
      ]
    }
  ]
}